{
 "cells": [
  {
   "cell_type": "markdown",
   "metadata": {},
   "source": [
    "Import the *enricher* module from the **makimono** python package.  \n",
    "(It is assumed that **R** and the respective *topGO* and *GOStats* R modules are already installed.)"
   ]
  },
  {
   "cell_type": "code",
   "execution_count": 1,
   "metadata": {
    "collapsed": false
   },
   "outputs": [],
   "source": [
    "import os\n",
    "from makimono import enricher"
   ]
  },
  {
   "cell_type": "markdown",
   "metadata": {
    "collapsed": true
   },
   "source": [
    "The *Cre* to GO/KEGG **mapping files** necessary for the topGO and GOstats R module."
   ]
  },
  {
   "cell_type": "code",
   "execution_count": 2,
   "metadata": {
    "collapsed": true
   },
   "outputs": [],
   "source": [
    "g_mappings = os.path.expanduser(\"~/SampleData/mappings/Cre2GO.txt\")\n",
    "k_mappings = os.path.expanduser(\"~/SampleData/mappings/KEGG2Cre.txt\")"
   ]
  },
  {
   "cell_type": "markdown",
   "metadata": {},
   "source": [
    "The files containing *Cre* transcripts sets of interest."
   ]
  },
  {
   "cell_type": "code",
   "execution_count": 3,
   "metadata": {
    "collapsed": true
   },
   "outputs": [],
   "source": [
    "target1 = os.path.expanduser(\"~/SampleData/clusters/317_{30min=2h=4h=8h=12h=24h=48h}GT{0h}.txt\")\n",
    "target2 = os.path.expanduser(\"~/SampleData/clusters/053_{8h=12h=24h=48h}GT{30min=2h=4h}GT{0h}.txt\")\n",
    "target3 = os.path.expanduser(\"~/SampleData/clusters/026_{30min}GT{2h}GT{4h=8h=12h=24h=48h}GT{0h}.txt\")\n",
    "\n",
    "targets = [target1, target2, target3]"
   ]
  },
  {
   "cell_type": "markdown",
   "metadata": {},
   "source": [
    "Creates an object for each enrichment type (**GO**: Biological Processs, Molecular Function and Cellular Component; **KEGG** Pathways) to perform."
   ]
  },
  {
   "cell_type": "code",
   "execution_count": 4,
   "metadata": {
    "collapsed": false,
    "scrolled": true
   },
   "outputs": [
    {
     "name": "stdout",
     "output_type": "stream",
     "text": [
      "\n",
      "groupGOTerms: \tGOBPTerm, GOMFTerm, GOCCTerm environments built.\n"
     ]
    }
   ],
   "source": [
    "BP = enricher.GOrich(g_mappings, \"BP\", 0.05)\n",
    "MF = enricher.GOrich(g_mappings, \"MF\", 0.05)\n",
    "CC = enricher.GOrich(g_mappings, \"CC\", 0.05)\n",
    "\n",
    "K = enricher.KEGGer(k_mappings, 0.05, \"Chlamydomonas reinhardtii\")"
   ]
  },
  {
   "cell_type": "markdown",
   "metadata": {},
   "source": [
    "Performs each the selected **enrichment tests** for each of the targets set. "
   ]
  },
  {
   "cell_type": "code",
   "execution_count": 5,
   "metadata": {
    "collapsed": false
   },
   "outputs": [],
   "source": [
    "for t in targets:\n",
    "    BP.perform_go_enrichment(t)\n",
    "    MF.perform_go_enrichment(t)\n",
    "    CC.perform_go_enrichment(t)"
   ]
  },
  {
   "cell_type": "code",
   "execution_count": 6,
   "metadata": {
    "collapsed": false
   },
   "outputs": [],
   "source": [
    "for t in targets:\n",
    "    K.perform_kegg_enrichment(t)"
   ]
  }
 ],
 "metadata": {
  "kernelspec": {
   "display_name": "Python 2",
   "language": "python",
   "name": "python2"
  },
  "language_info": {
   "codemirror_mode": {
    "name": "ipython",
    "version": 2
   },
   "file_extension": ".py",
   "mimetype": "text/x-python",
   "name": "python",
   "nbconvert_exporter": "python",
   "pygments_lexer": "ipython2",
   "version": "2.7.6"
  }
 },
 "nbformat": 4,
 "nbformat_minor": 0
}
